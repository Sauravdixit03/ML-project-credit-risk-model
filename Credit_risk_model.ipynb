{
 "cells": [
  {
   "cell_type": "code",
   "execution_count": null,
   "id": "d9567527",
   "metadata": {},
   "outputs": [],
   "source": [
    "import pandas as pd\n",
    "import matplotlib.pyplot as plt \n",
    "import seaborn as sns\n",
    "from sklearn.model_selection import train_test_split\n",
    "from sklearn.preprocessing import MinMaxScaler\n",
    "import numpy as np"
   ]
  },
  {
   "cell_type": "code",
   "execution_count": null,
   "id": "a195cbcf",
   "metadata": {},
   "outputs": [],
   "source": [
    "df_customer=pd.read_csv(r\"C:\\Users\\skd53\\OneDrive\\Machine learning\\ML_classification_project\\customers.csv\")\n",
    "df_loan=pd.read_csv(r\"C:\\Users\\skd53\\OneDrive\\Machine learning\\ML_classification_project\\loans.csv\")\n",
    "df_bureau=pd.read_csv(r\"C:\\Users\\skd53\\OneDrive\\Machine learning\\ML_classification_project\\bureau_data.csv\")\n"
   ]
  },
  {
   "cell_type": "code",
   "execution_count": null,
   "id": "aeeb5d40",
   "metadata": {},
   "outputs": [],
   "source": [
    "print(df_bureau.shape,df_customer.shape,df_loan.shape)"
   ]
  },
  {
   "cell_type": "code",
   "execution_count": null,
   "id": "ab7558dc",
   "metadata": {},
   "outputs": [],
   "source": [
    "df_loan.head(3)"
   ]
  },
  {
   "cell_type": "code",
   "execution_count": null,
   "id": "f3620b7d",
   "metadata": {},
   "outputs": [],
   "source": [
    "df_customer.head(3)"
   ]
  },
  {
   "cell_type": "code",
   "execution_count": null,
   "id": "e22205b6",
   "metadata": {},
   "outputs": [],
   "source": [
    "df=pd.merge(df_customer,df_loan,on=\"cust_id\")\n",
    "df.head(3)"
   ]
  },
  {
   "cell_type": "code",
   "execution_count": null,
   "id": "8d2f60e7",
   "metadata": {},
   "outputs": [],
   "source": [
    "df=pd.merge(df,df_bureau)\n",
    "df.head()"
   ]
  },
  {
   "cell_type": "code",
   "execution_count": null,
   "id": "0b776caa",
   "metadata": {},
   "outputs": [],
   "source": [
    "df[\"default\"]=df[\"default\"].astype(int)\n",
    "df.default.value_counts()"
   ]
  },
  {
   "cell_type": "code",
   "execution_count": null,
   "id": "5afa0618",
   "metadata": {},
   "outputs": [],
   "source": [
    "X=df.drop(\"default\",axis=\"columns\")\n",
    "y=df[\"default\"]\n",
    "X_train,X_test,y_train,y_test=train_test_split(X,y,stratify=y,test_size=0.25,random_state=42)"
   ]
  },
  {
   "cell_type": "code",
   "execution_count": null,
   "id": "f49e5da9",
   "metadata": {},
   "outputs": [],
   "source": [
    "df_train=pd.concat([X_train,y_train],axis='columns')\n",
    "df_test=pd.concat([X_test,y_test],axis='columns')\n"
   ]
  },
  {
   "cell_type": "code",
   "execution_count": null,
   "id": "5e3e6b40",
   "metadata": {},
   "outputs": [],
   "source": [
    "df_train.shape,df_test.shape"
   ]
  },
  {
   "cell_type": "code",
   "execution_count": null,
   "id": "ace4ecb4",
   "metadata": {},
   "outputs": [],
   "source": [
    "df_train.isna().sum()"
   ]
  },
  {
   "cell_type": "code",
   "execution_count": null,
   "id": "42bf5da5",
   "metadata": {},
   "outputs": [],
   "source": [
    "df_train[\"residence_type\"].unique()"
   ]
  },
  {
   "cell_type": "code",
   "execution_count": null,
   "id": "f7a4ffe0",
   "metadata": {},
   "outputs": [],
   "source": [
    "df_train.residence_type.mode()[0]"
   ]
  },
  {
   "cell_type": "code",
   "execution_count": null,
   "id": "8e664f80",
   "metadata": {},
   "outputs": [],
   "source": [
    "df_train[\"residence_type\"].fillna(df_train.residence_type.mode()[0],inplace=True)\n",
    "df_train.isna().sum()"
   ]
  },
  {
   "cell_type": "code",
   "execution_count": null,
   "id": "b1e527c6",
   "metadata": {},
   "outputs": [],
   "source": [
    "df_train[\"residence_type\"].unique()"
   ]
  },
  {
   "cell_type": "code",
   "execution_count": null,
   "id": "19e49392",
   "metadata": {},
   "outputs": [],
   "source": [
    "df_test.residence_type.fillna(df_train.residence_type.mode()[0],inplace=True)"
   ]
  },
  {
   "cell_type": "code",
   "execution_count": null,
   "id": "d485203a",
   "metadata": {},
   "outputs": [],
   "source": [
    "df_train.duplicated().sum()"
   ]
  },
  {
   "cell_type": "code",
   "execution_count": null,
   "id": "ec90ef8e",
   "metadata": {},
   "outputs": [],
   "source": [
    "df_train.describe()"
   ]
  },
  {
   "cell_type": "code",
   "execution_count": null,
   "id": "e2519046",
   "metadata": {},
   "outputs": [],
   "source": [
    "df_train.columns"
   ]
  },
  {
   "cell_type": "code",
   "execution_count": null,
   "id": "da227e90",
   "metadata": {},
   "outputs": [],
   "source": [
    "numerical_columns=[\"age\",\"income\",\"number_of_dependants\",\"years_at_current_address\",\"zipcode\",\"sanction_amount\",\"loan_amount\",\"processing_fee\",\"gst\",\"net_disbursement\",\"principal_outstanding\",\"bank_balance_at_application\",\"number_of_open_accounts\",\"number_of_closed_accounts\",\"total_loan_months\",\"delinquent_months\",\"total_dpd\"\n",
    ",\"enquiry_count\",\"credit_utilization_ratio\"]\n",
    "Category_columns=[\"gender\",\"marital_status\",\"employment_status\",\"residence_type\",\"city\",\"state\",\"zipcode\",\"loan_purpose\",\"loan_type\",\"default\"]\n",
    "\n",
    "\n"
   ]
  },
  {
   "cell_type": "code",
   "execution_count": null,
   "id": "944f8c3c",
   "metadata": {},
   "outputs": [],
   "source": [
    "cols_per_row = 4  \n",
    "\n",
    "# Calculate rows needed\n",
    "rows = (len(numerical_columns) + cols_per_row - 1) // cols_per_row\n",
    "\n",
    "# Set figure size\n",
    "plt.figure(figsize=(cols_per_row*5, rows*4))\n",
    "\n",
    "# Loop through each numerical column\n",
    "for i, col in enumerate(numerical_columns, 1):\n",
    "    plt.subplot(rows, cols_per_row, i)\n",
    "    sns.boxplot(x=df_train[col])  # vertical boxplot\n",
    "    plt.title(col)\n",
    "\n",
    "plt.tight_layout()\n",
    "plt.show()\n",
    "\n",
    "# for col in numerical_columns:\n",
    "#     sns.boxplot(df_train[col])"
   ]
  },
  {
   "cell_type": "code",
   "execution_count": null,
   "id": "eb96e6e8",
   "metadata": {},
   "outputs": [],
   "source": [
    "cols_per_row = 4  \n",
    "\n",
    "# Calculate rows needed\n",
    "rows = (len(numerical_columns) + cols_per_row - 1) // cols_per_row\n",
    "\n",
    "# Set figure size\n",
    "plt.figure(figsize=(cols_per_row*5, rows*4))\n",
    "\n",
    "# Loop through each numerical column\n",
    "for i, col in enumerate(numerical_columns, 1):\n",
    "    plt.subplot(rows, cols_per_row, i)\n",
    "    sns.histplot(x=df_train[col])  # vertical boxplot\n",
    "    plt.title(col)\n",
    "\n",
    "plt.tight_layout()\n",
    "plt.show()"
   ]
  },
  {
   "cell_type": "code",
   "execution_count": null,
   "id": "12bbbe64",
   "metadata": {},
   "outputs": [],
   "source": [
    "df_train[df_train[\"processing_fee\"] > df_train[\"loan_amount\"].max()][[\"loan_amount\", \"processing_fee\"]]\n"
   ]
  },
  {
   "cell_type": "code",
   "execution_count": null,
   "id": "bed96c0e",
   "metadata": {},
   "outputs": [],
   "source": [
    "df_train[(df_train[\"processing_fee\"] / df_train[\"loan_amount\"].max())>0.03][[\"loan_amount\", \"processing_fee\"]]\n"
   ]
  },
  {
   "cell_type": "code",
   "execution_count": null,
   "id": "5606850c",
   "metadata": {},
   "outputs": [],
   "source": [
    "for col in Category_columns:\n",
    "    print(df_train[col].unique())"
   ]
  },
  {
   "cell_type": "code",
   "execution_count": null,
   "id": "9d0f7e30",
   "metadata": {},
   "outputs": [],
   "source": [
    "df_train[\"loan_purpose\"]=df_train[\"loan_purpose\"].replace(\"Personaal\",\"Personal\")\n",
    "df_test[\"loan_purpose\"]=df_test[\"loan_purpose\"].replace(\"Personaal\",\"Personal\")"
   ]
  },
  {
   "cell_type": "code",
   "execution_count": null,
   "id": "3157d3c5",
   "metadata": {},
   "outputs": [],
   "source": [
    "df_test.loan_purpose.unique()"
   ]
  },
  {
   "cell_type": "code",
   "execution_count": null,
   "id": "feb732c1",
   "metadata": {},
   "outputs": [],
   "source": [
    "df_train[df_train.loan_amount > df_train.sanction_amount]"
   ]
  },
  {
   "cell_type": "markdown",
   "id": "d864be34",
   "metadata": {},
   "source": [
    "### Feature Engineering"
   ]
  },
  {
   "cell_type": "code",
   "execution_count": null,
   "id": "387b8ba8",
   "metadata": {},
   "outputs": [],
   "source": [
    "df_train[\"loan_to_income\"]=round(df_train[\"loan_amount\"] / df_train[\"income\"],2)\n",
    "\n",
    "df_test[\"loan_to_income\"]=round(df_test[\"loan_amount\"] / df_test[\"income\"],2)\n"
   ]
  },
  {
   "cell_type": "code",
   "execution_count": null,
   "id": "58414c2f",
   "metadata": {},
   "outputs": [],
   "source": [
    "df_train[\"loan_to_income\"].describe()\n"
   ]
  },
  {
   "cell_type": "code",
   "execution_count": null,
   "id": "ad059e49",
   "metadata": {},
   "outputs": [],
   "source": [
    "sns.histplot(df_train[\"loan_to_income\"],kde=True)\n",
    "plt.tight_layout()\n",
    "plt.show()"
   ]
  },
  {
   "cell_type": "code",
   "execution_count": null,
   "id": "96c0dca6",
   "metadata": {},
   "outputs": [],
   "source": [
    "df_train[[\"delinquent_months\",\"total_loan_months\"]]"
   ]
  },
  {
   "cell_type": "code",
   "execution_count": null,
   "id": "888743a6",
   "metadata": {},
   "outputs": [],
   "source": [
    "df_train[\"delinquency_ratio\"]=round(df_train[\"delinquent_months\"]*100 / df_train[\"total_loan_months\"],2)\n",
    "df_train[[\"delinquent_months\",\"total_loan_months\",\"delinquency_ratio\"]].head()"
   ]
  },
  {
   "cell_type": "code",
   "execution_count": null,
   "id": "b3a04601",
   "metadata": {},
   "outputs": [],
   "source": [
    "df_test[\"delinquency_ratio\"]=round(df_test[\"delinquent_months\"]*100 / df_test[\"total_loan_months\"],2)\n"
   ]
  },
  {
   "cell_type": "code",
   "execution_count": null,
   "id": "5682236c",
   "metadata": {},
   "outputs": [],
   "source": [
    "sns.histplot(df_train[\"delinquency_ratio\"],kde=True)\n",
    "plt.tight_layout()\n",
    "plt.show()"
   ]
  },
  {
   "cell_type": "code",
   "execution_count": null,
   "id": "ae6e92fc",
   "metadata": {},
   "outputs": [],
   "source": [
    "df_train[[\"total_dpd\",\"delinquent_months\"]]"
   ]
  },
  {
   "cell_type": "code",
   "execution_count": null,
   "id": "ab202de4",
   "metadata": {},
   "outputs": [],
   "source": [
    "df_train[\"avg_dpd_per_delinquent\"]=(df_train[\"total_dpd\"] / df_train[\"delinquent_months\"]).round(1)\n"
   ]
  },
  {
   "cell_type": "code",
   "execution_count": null,
   "id": "ad8a5a33",
   "metadata": {},
   "outputs": [],
   "source": [
    "df_train[\"avg_dpd_per_delinquent\"].describe()\n"
   ]
  },
  {
   "cell_type": "code",
   "execution_count": null,
   "id": "47c57c02",
   "metadata": {},
   "outputs": [],
   "source": [
    "df_train[\"avg_dpd_per_delinquent\"].isna().sum()\n"
   ]
  },
  {
   "cell_type": "code",
   "execution_count": null,
   "id": "a3b0dc96",
   "metadata": {},
   "outputs": [],
   "source": [
    "df_train[\"avg_dpd_per_delinquent\"] = np.where(\n",
    "    df_train[\"delinquent_months\"] != 0 ,\n",
    "    (df_train[\"total_dpd\"] / df_train[\"delinquent_months\"]).round(1),\n",
    "    0\n",
    ")\n",
    "\n",
    "\n",
    "df_test[\"avg_dpd_per_delinquent\"] = np.where(\n",
    "    df_test[\"delinquent_months\"] != 0 ,\n",
    "    (df_test[\"total_dpd\"] / df_test[\"delinquent_months\"]).round(1),\n",
    "    0\n",
    ")\n"
   ]
  },
  {
   "cell_type": "code",
   "execution_count": null,
   "id": "a5f1c88e",
   "metadata": {},
   "outputs": [],
   "source": [
    "df_train[\"avg_dpd_per_delinquent\"].describe()\n"
   ]
  },
  {
   "cell_type": "code",
   "execution_count": null,
   "id": "67f46e22",
   "metadata": {},
   "outputs": [],
   "source": [
    "df_train.columns"
   ]
  },
  {
   "cell_type": "markdown",
   "id": "34d44acb",
   "metadata": {},
   "source": [
    "### Feature Selection"
   ]
  },
  {
   "cell_type": "code",
   "execution_count": null,
   "id": "b49852d3",
   "metadata": {},
   "outputs": [],
   "source": [
    "# Dropping the coloumns which are not that useful from both test and train dataframe\n",
    "\n",
    "df_train=df_train.drop([\"cust_id\",\"loan_id\"],axis=\"columns\")\n",
    "df_test=df_test.drop([\"cust_id\",\"loan_id\"],axis=\"columns\")"
   ]
  },
  {
   "cell_type": "code",
   "execution_count": null,
   "id": "556baad8",
   "metadata": {},
   "outputs": [],
   "source": [
    "df_train=df_train.drop([\"disbursal_date\",\"installment_start_dt\",\"loan_amount\",\"income\",\"total_loan_months\",\"delinquent_months\",\"total_dpd\"],axis=\"columns\")\n",
    "df_test=df_test.drop([\"disbursal_date\",\"installment_start_dt\",\"loan_amount\",\"income\",\"total_loan_months\",\"delinquent_months\",\"total_dpd\"],axis=\"columns\")"
   ]
  },
  {
   "cell_type": "code",
   "execution_count": null,
   "id": "1e666b21",
   "metadata": {},
   "outputs": [],
   "source": [
    "df_train.columns"
   ]
  },
  {
   "cell_type": "code",
   "execution_count": null,
   "id": "779098a9",
   "metadata": {},
   "outputs": [],
   "source": [
    "df_train.select_dtypes([\"int64\",\"float64\"]).columns"
   ]
  },
  {
   "cell_type": "code",
   "execution_count": null,
   "id": "47a53299",
   "metadata": {},
   "outputs": [],
   "source": [
    "df_train[\"default\"].info()"
   ]
  },
  {
   "cell_type": "code",
   "execution_count": null,
   "id": "2e54cb4c",
   "metadata": {},
   "outputs": [],
   "source": [
    "# Scaling the columns\n",
    "\n",
    "X_train=df_train.drop(\"default\" , axis=\"columns\")\n",
    "y_train=df_train[\"default\"]\n",
    "\n",
    "col_to_scale=X_train.select_dtypes([\"int64\",\"float64\"]).columns\n",
    "\n",
    "scaler=MinMaxScaler()\n",
    "X_train[col_to_scale]=scaler.fit_transform(X_train[col_to_scale])\n",
    "X_train.head()\n"
   ]
  },
  {
   "cell_type": "code",
   "execution_count": null,
   "id": "1a208db8",
   "metadata": {},
   "outputs": [],
   "source": [
    "X_train.describe()"
   ]
  },
  {
   "cell_type": "code",
   "execution_count": null,
   "id": "2c37830e",
   "metadata": {},
   "outputs": [],
   "source": [
    "X_test=df_test.drop(\"default\" , axis=\"columns\")\n",
    "y_test=df_test[\"default\"]\n",
    "\n",
    "X_test[col_to_scale]=scaler.transform(X_test[col_to_scale])\n",
    "X_test.describe()\n"
   ]
  },
  {
   "cell_type": "code",
   "execution_count": null,
   "id": "27797fe0",
   "metadata": {},
   "outputs": [],
   "source": [
    "from statsmodels.stats.outliers_influence import variance_inflation_factor\n",
    "\n",
    "def calculate_vif(data):\n",
    "    data = data.fillna(data.mean()) #we had done this because we can see the 7 na values in the loan_to_income column\n",
    "\n",
    "    vif_df = pd.DataFrame()\n",
    "    vif_df['Column'] = data.columns\n",
    "    vif_df['VIF'] = [variance_inflation_factor(data.values,i) for i in range(data.shape[1])]\n",
    "    return vif_df"
   ]
  },
  {
   "cell_type": "code",
   "execution_count": null,
   "id": "44fa26db",
   "metadata": {},
   "outputs": [],
   "source": [
    "calculate_vif(X_train[col_to_scale])"
   ]
  },
  {
   "cell_type": "code",
   "execution_count": null,
   "id": "f664cf11",
   "metadata": {},
   "outputs": [],
   "source": [
    "print(X_train[col_to_scale].isna().sum())\n"
   ]
  },
  {
   "cell_type": "code",
   "execution_count": null,
   "id": "f83ad6d4",
   "metadata": {},
   "outputs": [],
   "source": [
    "feature_to_drop_vif=[\"sanction_amount\",\"processing_fee\",\"gst\",\"net_disbursement\",\"principal_outstanding\"]"
   ]
  },
  {
   "cell_type": "code",
   "execution_count": null,
   "id": "a8c362a2",
   "metadata": {},
   "outputs": [],
   "source": [
    "X_train=X_train.drop(feature_to_drop_vif,axis='columns')\n"
   ]
  },
  {
   "cell_type": "code",
   "execution_count": null,
   "id": "ecfa58fb",
   "metadata": {},
   "outputs": [],
   "source": [
    "vif_df=calculate_vif(X_train.select_dtypes([\"int64\",\"float64\"]))\n",
    "vif_df\n"
   ]
  },
  {
   "cell_type": "code",
   "execution_count": null,
   "id": "30f6de6a",
   "metadata": {},
   "outputs": [],
   "source": [
    "# i will store all the vif columns as feature coloumns\n",
    "selected_numeric_feature_vif=vif_df.Column.values\n",
    "selected_numeric_feature_vif"
   ]
  },
  {
   "cell_type": "code",
   "execution_count": null,
   "id": "3ef38796",
   "metadata": {},
   "outputs": [],
   "source": [
    "# correlation matrix\n",
    "numeric_df = X_train.select_dtypes(include=['int64', 'float64']).copy()\n",
    "\n",
    "# Include the target column\n",
    "numeric_df['default'] = df_train['default']\n",
    "\n",
    "# Compute correlation matrix\n",
    "cm = numeric_df.corr()\n",
    "\n",
    "# Plot heatmap\n",
    "plt.figure(figsize=(12,12))\n",
    "sns.heatmap(cm, annot=True)\n",
    "plt.xticks(rotation=45, ha='right')\n",
    "plt.yticks(rotation=0)\n",
    "plt.tight_layout()\n",
    "plt.show()\n"
   ]
  },
  {
   "cell_type": "code",
   "execution_count": null,
   "id": "1a8ca5bb",
   "metadata": {},
   "outputs": [],
   "source": [
    "def calculate_woe_iv(df,feature,target):\n",
    "    grouped=df.groupby(feature)[target].agg([\"count\",\"sum\"])\n",
    "    grouped=grouped.rename(columns={\"count\":\"total\",\"sum\":\"good\"})\n",
    "    grouped[\"bad\"]=grouped[\"total\"]-grouped[\"good\"]\n",
    "\n",
    "    total_good=grouped[\"good\"].sum()\n",
    "    total_bad=grouped[\"bad\"].sum()\n",
    "\n",
    "    grouped[\"good_pct\"]=grouped[\"good\"]/total_good\n",
    "    grouped[\"bad_pct\"]=grouped[\"bad\"]/total_bad\n",
    "    grouped[\"woe\"]=np.log(grouped[\"good_pct\"]/grouped[\"bad_pct\"])\n",
    "    grouped[\"iv\"]=(grouped[\"good_pct\"]-grouped[\"bad_pct\"])*grouped[\"woe\"]\n",
    "    grouped[\"woe\"] = grouped[\"woe\"].replace([np.inf, -np.inf], 0)\n",
    "    grouped[\"iv\"] = grouped[\"iv\"].replace([np.inf, -np.inf], 0)\n",
    "    \n",
    "    total_iv=grouped[\"iv\"].sum()\n",
    "\n",
    "\n",
    "    return grouped, total_iv\n",
    "\n",
    "grouped,total_iv=calculate_woe_iv(pd.concat([X_train,y_train],axis=1),\"loan_purpose\",\"default\")\n",
    "grouped\n"
   ]
  },
  {
   "cell_type": "code",
   "execution_count": null,
   "id": "f690262d",
   "metadata": {},
   "outputs": [],
   "source": [
    "iv_values = {}\n",
    "\n",
    "for feature in X_train.columns:\n",
    "    if X_train[feature].dtype == \"object\":\n",
    "        # directly calculate woe/iv for categorical\n",
    "        _, iv = calculate_woe_iv(\n",
    "            pd.concat([X_train[[feature]], y_train], axis=1), \n",
    "            feature, \n",
    "            \"default\"\n",
    "        )\n",
    "    else:\n",
    "        # bin continuous variable\n",
    "        x_binned = pd.cut(X_train[feature], bins=10, labels=False)\n",
    "        df_temp = pd.DataFrame({feature: x_binned, \"default\": y_train})\n",
    "        _, iv = calculate_woe_iv(df_temp, feature, \"default\")\n",
    "    \n",
    "    iv_values[feature] = round(iv,2)\n",
    "\n",
    "iv_values\n"
   ]
  },
  {
   "cell_type": "code",
   "execution_count": null,
   "id": "2619ff3d",
   "metadata": {},
   "outputs": [],
   "source": [
    "iv_df=pd.DataFrame(list(iv_values.items()),columns=[\"Feature\",\"IV\"])\n",
    "iv_df=iv_df.sort_values(by=\"IV\",ascending=False)\n",
    "iv_df"
   ]
  },
  {
   "cell_type": "code",
   "execution_count": null,
   "id": "f8f67c46",
   "metadata": {},
   "outputs": [],
   "source": [
    "selected_features_iv=[feature for feature,iv in iv_values.items() if iv > 0.02]\n",
    "selected_features_iv"
   ]
  },
  {
   "cell_type": "code",
   "execution_count": null,
   "id": "5353afae",
   "metadata": {},
   "outputs": [],
   "source": []
  },
  {
   "cell_type": "markdown",
   "id": "5fb2f1dc",
   "metadata": {},
   "source": [
    "### Feature Encoding"
   ]
  },
  {
   "cell_type": "code",
   "execution_count": null,
   "id": "9a56f47d",
   "metadata": {},
   "outputs": [],
   "source": [
    "X_train_reduced=X_train[selected_features_iv]\n",
    "X_test_reduced=X_test[selected_features_iv]\n",
    "X_train_reduced.head()"
   ]
  },
  {
   "cell_type": "code",
   "execution_count": null,
   "id": "0d698960",
   "metadata": {},
   "outputs": [],
   "source": [
    "X_train_encoded=pd.get_dummies(X_train_reduced,drop_first=True)\n",
    "X_test_encoded=pd.get_dummies(X_test_reduced,drop_first=True)\n",
    "X_train_encoded.head()"
   ]
  },
  {
   "cell_type": "code",
   "execution_count": null,
   "id": "b6b1a34c",
   "metadata": {},
   "outputs": [],
   "source": [
    "X_train_encoded.isna().sum()\n"
   ]
  },
  {
   "cell_type": "code",
   "execution_count": null,
   "id": "228e7bbb",
   "metadata": {},
   "outputs": [],
   "source": [
    "# Impute missing values in numeric columns\n",
    "for col in X_train_encoded.columns:\n",
    "    median_val = X_train_encoded[col].median()\n",
    "    X_train_encoded[col] = X_train_encoded[col].fillna(median_val)\n",
    "    X_test_encoded[col] = X_test_encoded[col].fillna(median_val)  # use train median"
   ]
  },
  {
   "cell_type": "markdown",
   "id": "cda5721a",
   "metadata": {},
   "source": [
    "### Logistic model,RandomForest Model,XGBoost model\n"
   ]
  },
  {
   "cell_type": "code",
   "execution_count": null,
   "id": "121cb70d",
   "metadata": {},
   "outputs": [],
   "source": [
    "from sklearn.linear_model import LogisticRegression\n",
    "from sklearn.metrics import classification_report\n",
    "log_model = LogisticRegression()\n",
    "log_model.fit(X_train_encoded,y_train)\n"
   ]
  },
  {
   "cell_type": "code",
   "execution_count": null,
   "id": "956efb9f",
   "metadata": {},
   "outputs": [],
   "source": [
    "y_pred=log_model.predict(X_test_encoded)\n",
    "report=classification_report(y_test,y_pred)\n",
    "print(report)\n"
   ]
  },
  {
   "cell_type": "code",
   "execution_count": null,
   "id": "6c9f2e0f",
   "metadata": {},
   "outputs": [],
   "source": [
    "y_train.value_counts()"
   ]
  },
  {
   "cell_type": "code",
   "execution_count": null,
   "id": "72205912",
   "metadata": {},
   "outputs": [],
   "source": [
    "from sklearn.ensemble import RandomForestClassifier\n",
    "forest_model = RandomForestClassifier()\n",
    "forest_model.fit(X_train_encoded,y_train)\n",
    "forest_pred=forest_model.predict(X_test_encoded)\n",
    "forest_report=classification_report(y_test,y_pred)\n",
    "print(forest_report)"
   ]
  },
  {
   "cell_type": "code",
   "execution_count": null,
   "id": "2718c66e",
   "metadata": {},
   "outputs": [],
   "source": [
    "from xgboost import XGBClassifier\n",
    "xg_model=XGBClassifier()\n",
    "xg_model.fit(X_train_encoded,y_train)\n",
    "xg_pred=xg_model.predict(X_test_encoded)\n",
    "xg_report=classification_report(y_test,y_pred)\n",
    "print(xg_report)"
   ]
  },
  {
   "cell_type": "code",
   "execution_count": null,
   "id": "dbf89486",
   "metadata": {},
   "outputs": [],
   "source": [
    "# i had tried linear model , randomforest model , xgboost model all are giving the similar performace due to class imbalance."
   ]
  },
  {
   "cell_type": "markdown",
   "id": "2482e4a5",
   "metadata": {},
   "source": [
    "### Class Imbalance Model"
   ]
  },
  {
   "cell_type": "code",
   "execution_count": null,
   "id": "7090d8b7",
   "metadata": {},
   "outputs": [],
   "source": [
    "from imblearn.under_sampling import RandomUnderSampler\n",
    "rus=RandomUnderSampler(random_state=42)\n",
    "X_train_rus,y_train_rus=rus.fit_resample(X_train_encoded,y_train)\n",
    "y_train_rus.value_counts()"
   ]
  },
  {
   "cell_type": "code",
   "execution_count": null,
   "id": "b446d0c2",
   "metadata": {},
   "outputs": [],
   "source": [
    "model2=LogisticRegression()\n",
    "model2.fit(X_train_rus,y_train_rus)\n",
    "pred=model2.predict(X_test_encoded)\n",
    "report2=classification_report(y_test,pred)\n",
    "print(report2)"
   ]
  },
  {
   "cell_type": "code",
   "execution_count": null,
   "id": "95b2dba8",
   "metadata": {},
   "outputs": [],
   "source": [
    "xg_model2=XGBClassifier()\n",
    "xg_model2.fit(X_train_rus,y_train_rus)\n",
    "xg_pred2=xg_model2.predict(X_test_encoded)\n",
    "xg_report2=classification_report(y_test,xg_pred2)\n",
    "print(xg_report2)"
   ]
  },
  {
   "cell_type": "code",
   "execution_count": null,
   "id": "b7e4c005",
   "metadata": {},
   "outputs": [],
   "source": []
  },
  {
   "cell_type": "markdown",
   "id": "85f8724a",
   "metadata": {},
   "source": [
    "### Handeling class imbalance using SMOTE"
   ]
  },
  {
   "cell_type": "code",
   "execution_count": null,
   "id": "cf786649",
   "metadata": {},
   "outputs": [],
   "source": [
    "from imblearn.over_sampling import SMOTE\n",
    "smote=SMOTE(random_state=42)\n",
    "X_train_smote,y_train_smote=smote.fit_resample(X_train_encoded,y_train)\n",
    "print(y_train_smote.value_counts())\n"
   ]
  },
  {
   "cell_type": "code",
   "execution_count": null,
   "id": "1b642826",
   "metadata": {},
   "outputs": [],
   "source": [
    "model3=LogisticRegression()\n",
    "model3.fit(X_train_smote,y_train_smote)\n",
    "model_pred=model3.predict(X_test_encoded)\n",
    "report3=classification_report(y_test,model_pred)\n",
    "print(report3)"
   ]
  },
  {
   "cell_type": "code",
   "execution_count": null,
   "id": "57ad1f4c",
   "metadata": {},
   "outputs": [],
   "source": [
    "best_model = model3\n"
   ]
  },
  {
   "cell_type": "code",
   "execution_count": null,
   "id": "5ce3f6b9",
   "metadata": {},
   "outputs": [],
   "source": [
    "from sklearn.metrics import roc_curve, auc\n",
    "y_prob = model3.predict_proba(X_test_encoded)[:, 1]\n",
    "\n",
    "# Compute ROC curve\n",
    "fpr, tpr, thresholds = roc_curve(y_test, y_prob)\n",
    "roc_auc = auc(fpr, tpr)\n",
    "\n",
    "# Plot ROC curve\n",
    "plt.figure(figsize=(7, 5))\n",
    "plt.plot(fpr, tpr, color=\"blue\", lw=2, label=\"ROC curve (AUC = %0.2f)\" % roc_auc)\n",
    "plt.plot([0, 1], [0, 1], color=\"red\", lw=2, linestyle=\"--\")\n",
    "plt.xlim([0.0, 1.0])\n",
    "plt.ylim([0.0, 1.05])\n",
    "plt.xlabel(\"False Positive Rate\")\n",
    "plt.ylabel(\"True Positive Rate\")\n",
    "plt.title(\"ROC Curve for logistic regression model\")\n",
    "plt.legend(loc=\"lower right\")\n",
    "plt.show()"
   ]
  },
  {
   "cell_type": "code",
   "execution_count": null,
   "id": "b3c42de1",
   "metadata": {},
   "outputs": [],
   "source": [
    "probabilities=np.round(best_model.predict_proba(X_test_encoded)[:, 1], 3)\n",
    "probabilities"
   ]
  },
  {
   "cell_type": "code",
   "execution_count": null,
   "id": "a2bda1e3",
   "metadata": {},
   "outputs": [],
   "source": [
    "df_eval=pd.DataFrame({\n",
    "    \"default_truth\":y_test,\n",
    "    \"default_probability\":probabilities\n",
    "})\n",
    "\n",
    "df_eval.head()"
   ]
  },
  {
   "cell_type": "code",
   "execution_count": null,
   "id": "2ab8230e",
   "metadata": {},
   "outputs": [],
   "source": [
    "df_eval[\"decile\"]=pd.qcut(df_eval[\"default_probability\"], 10, labels=False, duplicates=\"drop\")\n",
    "df_eval"
   ]
  },
  {
   "cell_type": "code",
   "execution_count": null,
   "id": "7e53fb76",
   "metadata": {},
   "outputs": [],
   "source": [
    "df_grouped= df_eval.groupby('decile').apply(\n",
    "    lambda x: pd.Series({\n",
    "        \"min_probability\": x['default_probability'].min(),\n",
    "        \"max_probability\": x['default_probability'].max(),\n",
    "        \"events\": x['default_truth'].sum(),   # defaults = 1\n",
    "        \"non_events\": (x['default_truth'] == 0).sum()\n",
    "    }))\n",
    "\n",
    "df_grouped.reset_index(inplace=True)\n",
    "df_grouped\n"
   ]
  },
  {
   "cell_type": "code",
   "execution_count": null,
   "id": "cf1408d7",
   "metadata": {},
   "outputs": [],
   "source": [
    "total_events = df_eval[\"default_truth\"].sum()\n",
    "total_non_events = (df_eval[\"default_truth\"] == 0).sum()\n",
    "\n",
    "\n",
    "\n",
    "df_grouped[\"event_rate\"] = (df_grouped[\"events\"] / total_events * 100).round(2)\n",
    "df_grouped[\"non_event_rate\"] = (df_grouped[\"non_events\"] / total_non_events * 100).round(2)\n",
    "\n",
    "# Sort from highest probability decile to lowest\n",
    "df_grouped = df_grouped.sort_values(by=\"decile\", ascending=False).reset_index(drop=True)\n",
    "\n",
    "print(df_grouped)\n"
   ]
  },
  {
   "cell_type": "code",
   "execution_count": null,
   "id": "2565ae78",
   "metadata": {},
   "outputs": [],
   "source": [
    "df_grouped[\"cum_event\"]=df_grouped[\"events\"].cumsum()\n",
    "df_grouped[\"cum_non-event\"]=df_grouped[\"non_events\"].cumsum()\n",
    "df_grouped"
   ]
  },
  {
   "cell_type": "code",
   "execution_count": null,
   "id": "105801c2",
   "metadata": {},
   "outputs": [],
   "source": [
    "df_grouped[\"cum_event_rate\"]=df_grouped[\"cum_event\"]*100/df_grouped[\"events\"].sum()\n",
    "df_grouped[\"cum_non-event_rate\"]=df_grouped[\"cum_non-event\"]*100/df_grouped[\"non_events\"].sum()\n",
    "df_grouped"
   ]
  },
  {
   "cell_type": "code",
   "execution_count": null,
   "id": "aa1e48fd",
   "metadata": {},
   "outputs": [],
   "source": [
    "df_grouped[\"KS\"]=abs(df_grouped[\"cum_event_rate\"]-df_grouped[\"cum_non-event_rate\"])\n",
    "df_grouped"
   ]
  },
  {
   "cell_type": "code",
   "execution_count": null,
   "id": "2c1bb69e",
   "metadata": {},
   "outputs": [],
   "source": [
    "feature_imp=best_model.coef_[0]\n",
    "coef_df=pd.DataFrame(feature_imp,index=X_train_encoded.columns,columns=[\"Coefficients\"])\n",
    "\n",
    "# Sort the coefficients for better visualization\n",
    "coef_df=coef_df.sort_values(by=\"Coefficients\",ascending=True)\n",
    "\n",
    "plt.figure(figsize=(8, 4))\n",
    "plt.barh(coef_df.index, coef_df['Coefficients'], color='steelblue')\n",
    "plt.xlabel('Coefficient Value')\n",
    "plt.title('Feature Importance in Linear Regression')\n",
    "plt.show()"
   ]
  },
  {
   "cell_type": "code",
   "execution_count": null,
   "id": "b090e089",
   "metadata": {},
   "outputs": [],
   "source": [
    "from joblib import dump \n",
    "model_data={\n",
    "    \"model\":best_model,\n",
    "    \"features\":X_train_encoded.columns,\n",
    "    \"scaler\":scaler,\n",
    "    \"cols_to_scale\":col_to_scale\n",
    "}\n",
    "\n",
    "dump(model_data,r\"C:\\Users\\skd53\\OneDrive\\Machine learning\\ML_classification_project\\Artifacts\\model_data.joblib\")"
   ]
  },
  {
   "cell_type": "code",
   "execution_count": null,
   "id": "e06cc48a",
   "metadata": {},
   "outputs": [],
   "source": [
    "best_model"
   ]
  },
  {
   "cell_type": "code",
   "execution_count": null,
   "id": "41f0c00b",
   "metadata": {},
   "outputs": [],
   "source": []
  },
  {
   "cell_type": "code",
   "execution_count": null,
   "id": "714a8435",
   "metadata": {},
   "outputs": [],
   "source": []
  },
  {
   "cell_type": "code",
   "execution_count": null,
   "id": "63a3308b",
   "metadata": {},
   "outputs": [],
   "source": []
  }
 ],
 "metadata": {
  "kernelspec": {
   "display_name": "Python 3",
   "language": "python",
   "name": "python3"
  },
  "language_info": {
   "codemirror_mode": {
    "name": "ipython",
    "version": 3
   },
   "file_extension": ".py",
   "mimetype": "text/x-python",
   "name": "python",
   "nbconvert_exporter": "python",
   "pygments_lexer": "ipython3",
   "version": "3.13.0"
  }
 },
 "nbformat": 4,
 "nbformat_minor": 5
}
